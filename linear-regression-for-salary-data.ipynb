{
 "cells": [
  {
   "cell_type": "code",
   "execution_count": 1,
   "metadata": {
    "_cell_guid": "b1076dfc-b9ad-4769-8c92-a6c4dae69d19",
    "_uuid": "8f2839f25d086af736a60e9eeb907d3b93b6e0e5",
    "execution": {
     "iopub.execute_input": "2020-10-16T20:47:15.724569Z",
     "iopub.status.busy": "2020-10-16T20:47:15.723762Z",
     "iopub.status.idle": "2020-10-16T20:47:17.875109Z",
     "shell.execute_reply": "2020-10-16T20:47:17.874245Z"
    },
    "papermill": {
     "duration": 2.193349,
     "end_time": "2020-10-16T20:47:17.875250",
     "exception": false,
     "start_time": "2020-10-16T20:47:15.681901",
     "status": "completed"
    },
    "tags": []
   },
   "outputs": [
    {
     "name": "stdout",
     "output_type": "stream",
     "text": [
      "/kaggle/input/salary-data-simple-linear-regression/Salary_Data.csv\n"
     ]
    }
   ],
   "source": [
    "# This Python 3 environment comes with many helpful analytics libraries installed\n",
    "# It is defined by the kaggle/python Docker image: https://github.com/kaggle/docker-python\n",
    "# For example, here's several helpful packages to load\n",
    "\n",
    "import numpy as np # linear algebra\n",
    "import pandas as pd # data processing, CSV file I/O (e.g. pd.read_csv)\n",
    "import matplotlib.pyplot as plt \n",
    "plt.style.use(\"seaborn-whitegrid\")       \n",
    "import pandas_profiling as pp \n",
    "\n",
    "import seaborn as sns\n",
    "\n",
    "from collections import Counter\n",
    "\n",
    "import warnings\n",
    "warnings.filterwarnings(\"ignore\")\n",
    "\n",
    "%matplotlib inline\n",
    "\n",
    "# Input data files are available in the read-only \"../input/\" directory\n",
    "# For example, running this (by clicking run or pressing Shift+Enter) will list all files under the input directory\n",
    "\n",
    "import os\n",
    "for dirname, _, filenames in os.walk('/kaggle/input'):\n",
    "    for filename in filenames:\n",
    "        print(os.path.join(dirname, filename))\n",
    "\n",
    "# You can write up to 5GB to the current directory (/kaggle/working/) that gets preserved as output when you create a version using \"Save & Run All\" \n",
    "# You can also write temporary files to /kaggle/temp/, but they won't be saved outside of the current session"
   ]
  },
  {
   "cell_type": "code",
   "execution_count": 2,
   "metadata": {
    "_cell_guid": "79c7e3d0-c299-4dcb-8224-4455121ee9b0",
    "_uuid": "d629ff2d2480ee46fbb7e2d37f6b5fab8052498a",
    "execution": {
     "iopub.execute_input": "2020-10-16T20:47:17.937036Z",
     "iopub.status.busy": "2020-10-16T20:47:17.936173Z",
     "iopub.status.idle": "2020-10-16T20:47:17.946208Z",
     "shell.execute_reply": "2020-10-16T20:47:17.945390Z"
    },
    "papermill": {
     "duration": 0.042035,
     "end_time": "2020-10-16T20:47:17.946338",
     "exception": false,
     "start_time": "2020-10-16T20:47:17.904303",
     "status": "completed"
    },
    "tags": []
   },
   "outputs": [],
   "source": [
    "df = pd.read_csv(\"/kaggle/input/salary-data-simple-linear-regression/Salary_Data.csv\")"
   ]
  },
  {
   "cell_type": "code",
   "execution_count": 3,
   "metadata": {
    "execution": {
     "iopub.execute_input": "2020-10-16T20:47:18.018760Z",
     "iopub.status.busy": "2020-10-16T20:47:18.017963Z",
     "iopub.status.idle": "2020-10-16T20:47:18.027069Z",
     "shell.execute_reply": "2020-10-16T20:47:18.026326Z"
    },
    "papermill": {
     "duration": 0.053336,
     "end_time": "2020-10-16T20:47:18.027207",
     "exception": false,
     "start_time": "2020-10-16T20:47:17.973871",
     "status": "completed"
    },
    "tags": []
   },
   "outputs": [
    {
     "data": {
      "text/html": [
       "<div>\n",
       "<style scoped>\n",
       "    .dataframe tbody tr th:only-of-type {\n",
       "        vertical-align: middle;\n",
       "    }\n",
       "\n",
       "    .dataframe tbody tr th {\n",
       "        vertical-align: top;\n",
       "    }\n",
       "\n",
       "    .dataframe thead th {\n",
       "        text-align: right;\n",
       "    }\n",
       "</style>\n",
       "<table border=\"1\" class=\"dataframe\">\n",
       "  <thead>\n",
       "    <tr style=\"text-align: right;\">\n",
       "      <th></th>\n",
       "      <th>YearsExperience</th>\n",
       "      <th>Salary</th>\n",
       "    </tr>\n",
       "  </thead>\n",
       "  <tbody>\n",
       "    <tr>\n",
       "      <th>0</th>\n",
       "      <td>1.1</td>\n",
       "      <td>39343.0</td>\n",
       "    </tr>\n",
       "    <tr>\n",
       "      <th>1</th>\n",
       "      <td>1.3</td>\n",
       "      <td>46205.0</td>\n",
       "    </tr>\n",
       "    <tr>\n",
       "      <th>2</th>\n",
       "      <td>1.5</td>\n",
       "      <td>37731.0</td>\n",
       "    </tr>\n",
       "    <tr>\n",
       "      <th>3</th>\n",
       "      <td>2.0</td>\n",
       "      <td>43525.0</td>\n",
       "    </tr>\n",
       "    <tr>\n",
       "      <th>4</th>\n",
       "      <td>2.2</td>\n",
       "      <td>39891.0</td>\n",
       "    </tr>\n",
       "  </tbody>\n",
       "</table>\n",
       "</div>"
      ],
      "text/plain": [
       "   YearsExperience   Salary\n",
       "0              1.1  39343.0\n",
       "1              1.3  46205.0\n",
       "2              1.5  37731.0\n",
       "3              2.0  43525.0\n",
       "4              2.2  39891.0"
      ]
     },
     "execution_count": 3,
     "metadata": {},
     "output_type": "execute_result"
    }
   ],
   "source": [
    "df.head()"
   ]
  },
  {
   "cell_type": "code",
   "execution_count": 4,
   "metadata": {
    "execution": {
     "iopub.execute_input": "2020-10-16T20:47:18.092065Z",
     "iopub.status.busy": "2020-10-16T20:47:18.090938Z",
     "iopub.status.idle": "2020-10-16T20:47:18.096250Z",
     "shell.execute_reply": "2020-10-16T20:47:18.095293Z"
    },
    "papermill": {
     "duration": 0.041632,
     "end_time": "2020-10-16T20:47:18.096423",
     "exception": false,
     "start_time": "2020-10-16T20:47:18.054791",
     "status": "completed"
    },
    "tags": []
   },
   "outputs": [
    {
     "data": {
      "text/plain": [
       "(30, 2)"
      ]
     },
     "execution_count": 4,
     "metadata": {},
     "output_type": "execute_result"
    }
   ],
   "source": [
    "df.shape"
   ]
  },
  {
   "cell_type": "code",
   "execution_count": 5,
   "metadata": {
    "execution": {
     "iopub.execute_input": "2020-10-16T20:47:18.169922Z",
     "iopub.status.busy": "2020-10-16T20:47:18.169060Z",
     "iopub.status.idle": "2020-10-16T20:47:18.174446Z",
     "shell.execute_reply": "2020-10-16T20:47:18.173475Z"
    },
    "papermill": {
     "duration": 0.048563,
     "end_time": "2020-10-16T20:47:18.174619",
     "exception": false,
     "start_time": "2020-10-16T20:47:18.126056",
     "status": "completed"
    },
    "tags": []
   },
   "outputs": [
    {
     "name": "stdout",
     "output_type": "stream",
     "text": [
      "<class 'pandas.core.frame.DataFrame'>\n",
      "RangeIndex: 30 entries, 0 to 29\n",
      "Data columns (total 2 columns):\n",
      " #   Column           Non-Null Count  Dtype  \n",
      "---  ------           --------------  -----  \n",
      " 0   YearsExperience  30 non-null     float64\n",
      " 1   Salary           30 non-null     float64\n",
      "dtypes: float64(2)\n",
      "memory usage: 608.0 bytes\n"
     ]
    }
   ],
   "source": [
    "df.info()"
   ]
  },
  {
   "cell_type": "code",
   "execution_count": 6,
   "metadata": {
    "execution": {
     "iopub.execute_input": "2020-10-16T20:47:18.247450Z",
     "iopub.status.busy": "2020-10-16T20:47:18.246587Z",
     "iopub.status.idle": "2020-10-16T20:47:18.278379Z",
     "shell.execute_reply": "2020-10-16T20:47:18.277630Z"
    },
    "papermill": {
     "duration": 0.074227,
     "end_time": "2020-10-16T20:47:18.278515",
     "exception": false,
     "start_time": "2020-10-16T20:47:18.204288",
     "status": "completed"
    },
    "tags": []
   },
   "outputs": [
    {
     "data": {
      "text/html": [
       "<div>\n",
       "<style scoped>\n",
       "    .dataframe tbody tr th:only-of-type {\n",
       "        vertical-align: middle;\n",
       "    }\n",
       "\n",
       "    .dataframe tbody tr th {\n",
       "        vertical-align: top;\n",
       "    }\n",
       "\n",
       "    .dataframe thead th {\n",
       "        text-align: right;\n",
       "    }\n",
       "</style>\n",
       "<table border=\"1\" class=\"dataframe\">\n",
       "  <thead>\n",
       "    <tr style=\"text-align: right;\">\n",
       "      <th></th>\n",
       "      <th>count</th>\n",
       "      <th>mean</th>\n",
       "      <th>std</th>\n",
       "      <th>min</th>\n",
       "      <th>25%</th>\n",
       "      <th>50%</th>\n",
       "      <th>75%</th>\n",
       "      <th>max</th>\n",
       "    </tr>\n",
       "  </thead>\n",
       "  <tbody>\n",
       "    <tr>\n",
       "      <th>YearsExperience</th>\n",
       "      <td>30.0</td>\n",
       "      <td>5.313333</td>\n",
       "      <td>2.837888</td>\n",
       "      <td>1.1</td>\n",
       "      <td>3.20</td>\n",
       "      <td>4.7</td>\n",
       "      <td>7.70</td>\n",
       "      <td>10.5</td>\n",
       "    </tr>\n",
       "    <tr>\n",
       "      <th>Salary</th>\n",
       "      <td>30.0</td>\n",
       "      <td>76003.000000</td>\n",
       "      <td>27414.429785</td>\n",
       "      <td>37731.0</td>\n",
       "      <td>56720.75</td>\n",
       "      <td>65237.0</td>\n",
       "      <td>100544.75</td>\n",
       "      <td>122391.0</td>\n",
       "    </tr>\n",
       "  </tbody>\n",
       "</table>\n",
       "</div>"
      ],
      "text/plain": [
       "                 count          mean           std      min       25%  \\\n",
       "YearsExperience   30.0      5.313333      2.837888      1.1      3.20   \n",
       "Salary            30.0  76003.000000  27414.429785  37731.0  56720.75   \n",
       "\n",
       "                     50%        75%       max  \n",
       "YearsExperience      4.7       7.70      10.5  \n",
       "Salary           65237.0  100544.75  122391.0  "
      ]
     },
     "execution_count": 6,
     "metadata": {},
     "output_type": "execute_result"
    }
   ],
   "source": [
    "df.describe().T"
   ]
  },
  {
   "cell_type": "markdown",
   "metadata": {
    "papermill": {
     "duration": 0.029295,
     "end_time": "2020-10-16T20:47:18.337642",
     "exception": false,
     "start_time": "2020-10-16T20:47:18.308347",
     "status": "completed"
    },
    "tags": []
   },
   "source": [
    "#  2. Data Visualization"
   ]
  },
  {
   "cell_type": "code",
   "execution_count": 7,
   "metadata": {
    "execution": {
     "iopub.execute_input": "2020-10-16T20:47:18.410069Z",
     "iopub.status.busy": "2020-10-16T20:47:18.406338Z",
     "iopub.status.idle": "2020-10-16T20:47:18.850137Z",
     "shell.execute_reply": "2020-10-16T20:47:18.849359Z"
    },
    "papermill": {
     "duration": 0.48296,
     "end_time": "2020-10-16T20:47:18.850264",
     "exception": false,
     "start_time": "2020-10-16T20:47:18.367304",
     "status": "completed"
    },
    "tags": []
   },
   "outputs": [
    {
     "data": {
      "image/png": "[encoded data removed]",
      "text/plain": [
       "<Figure size 432x288 with 1 Axes>"
      ]
     },
     "metadata": {
      "needs_background": "light"
     },
     "output_type": "display_data"
    }
   ],
   "source": [
    "\n",
    "sns.scatterplot(x = \"YearsExperience\", y = \"Salary\",hue = \"YearsExperience\",data = df);\n"
   ]
  },
  {
   "cell_type": "code",
   "execution_count": 8,
   "metadata": {
    "execution": {
     "iopub.execute_input": "2020-10-16T20:47:18.925318Z",
     "iopub.status.busy": "2020-10-16T20:47:18.924519Z",
     "iopub.status.idle": "2020-10-16T20:47:20.755416Z",
     "shell.execute_reply": "2020-10-16T20:47:20.754796Z"
    },
    "papermill": {
     "duration": 1.874736,
     "end_time": "2020-10-16T20:47:20.755560",
     "exception": false,
     "start_time": "2020-10-16T20:47:18.880824",
     "status": "completed"
    },
    "tags": []
   },
   "outputs": [
    {
     "data": {
      "image/png": "[encoded data removed]",
      "text/plain": [
       "<Figure size 360x360 with 6 Axes>"
      ]
     },
     "metadata": {
      "needs_background": "light"
     },
     "output_type": "display_data"
    }
   ],
   "source": [
    "sns.pairplot(df,kind= \"reg\");"
   ]
  },
  {
   "cell_type": "code",
   "execution_count": 9,
   "metadata": {
    "execution": {
     "iopub.execute_input": "2020-10-16T20:47:20.838376Z",
     "iopub.status.busy": "2020-10-16T20:47:20.832568Z",
     "iopub.status.idle": "2020-10-16T20:47:21.885524Z",
     "shell.execute_reply": "2020-10-16T20:47:21.884705Z"
    },
    "papermill": {
     "duration": 1.091773,
     "end_time": "2020-10-16T20:47:21.885666",
     "exception": false,
     "start_time": "2020-10-16T20:47:20.793893",
     "status": "completed"
    },
    "tags": []
   },
   "outputs": [
    {
     "data": {
      "image/png": "[encoded data removed]",
      "text/plain": [
       "<Figure size 360x360 with 3 Axes>"
      ]
     },
     "metadata": {
      "needs_background": "light"
     },
     "output_type": "display_data"
    }
   ],
   "source": [
    "sns.jointplot(x=\"YearsExperience\", y=\"Salary\",color = 'blue',kind = \"reg\", data=df,size = 5);"
   ]
  },
  {
   "cell_type": "markdown",
   "metadata": {
    "papermill": {
     "duration": 0.033303,
     "end_time": "2020-10-16T20:47:21.952300",
     "exception": false,
     "start_time": "2020-10-16T20:47:21.918997",
     "status": "completed"
    },
    "tags": []
   },
   "source": [
    "# 3.Model"
   ]
  },
  {
   "cell_type": "code",
   "execution_count": 10,
   "metadata": {
    "execution": {
     "iopub.execute_input": "2020-10-16T20:47:22.024777Z",
     "iopub.status.busy": "2020-10-16T20:47:22.023987Z",
     "iopub.status.idle": "2020-10-16T20:47:22.027161Z",
     "shell.execute_reply": "2020-10-16T20:47:22.026417Z"
    },
    "papermill": {
     "duration": 0.041152,
     "end_time": "2020-10-16T20:47:22.027284",
     "exception": false,
     "start_time": "2020-10-16T20:47:21.986132",
     "status": "completed"
    },
    "tags": []
   },
   "outputs": [],
   "source": [
    "X = df['YearsExperience']\n",
    "y = df['Salary']"
   ]
  },
  {
   "cell_type": "markdown",
   "metadata": {
    "papermill": {
     "duration": 0.033095,
     "end_time": "2020-10-16T20:47:22.093657",
     "exception": false,
     "start_time": "2020-10-16T20:47:22.060562",
     "status": "completed"
    },
    "tags": []
   },
   "source": [
    "## 3.1.Stats Model"
   ]
  },
  {
   "cell_type": "code",
   "execution_count": 11,
   "metadata": {
    "execution": {
     "iopub.execute_input": "2020-10-16T20:47:22.167324Z",
     "iopub.status.busy": "2020-10-16T20:47:22.166462Z",
     "iopub.status.idle": "2020-10-16T20:47:23.020410Z",
     "shell.execute_reply": "2020-10-16T20:47:23.019724Z"
    },
    "papermill": {
     "duration": 0.89354,
     "end_time": "2020-10-16T20:47:23.020542",
     "exception": false,
     "start_time": "2020-10-16T20:47:22.127002",
     "status": "completed"
    },
    "tags": []
   },
   "outputs": [
    {
     "data": {
      "text/html": [
       "<table class=\"simpletable\">\n",
       "<caption>OLS Regression Results</caption>\n",
       "<tr>\n",
       "  <th>Dep. Variable:</th>         <td>Salary</td>      <th>  R-squared:         </th> <td>   0.957</td>\n",
       "</tr>\n",
       "<tr>\n",
       "  <th>Model:</th>                   <td>OLS</td>       <th>  Adj. R-squared:    </th> <td>   0.955</td>\n",
       "</tr>\n",
       "<tr>\n",
       "  <th>Method:</th>             <td>Least Squares</td>  <th>  F-statistic:       </th> <td>   622.5</td>\n",
       "</tr>\n",
       "<tr>\n",
       "  <th>Date:</th>             <td>Fri, 16 Oct 2020</td> <th>  Prob (F-statistic):</th> <td>1.14e-20</td>\n",
       "</tr>\n",
       "<tr>\n",
       "  <th>Time:</th>                 <td>20:47:23</td>     <th>  Log-Likelihood:    </th> <td> -301.44</td>\n",
       "</tr>\n",
       "<tr>\n",
       "  <th>No. Observations:</th>      <td>    30</td>      <th>  AIC:               </th> <td>   606.9</td>\n",
       "</tr>\n",
       "<tr>\n",
       "  <th>Df Residuals:</th>          <td>    28</td>      <th>  BIC:               </th> <td>   609.7</td>\n",
       "</tr>\n",
       "<tr>\n",
       "  <th>Df Model:</th>              <td>     1</td>      <th>                     </th>     <td> </td>   \n",
       "</tr>\n",
       "<tr>\n",
       "  <th>Covariance Type:</th>      <td>nonrobust</td>    <th>                     </th>     <td> </td>   \n",
       "</tr>\n",
       "</table>\n",
       "<table class=\"simpletable\">\n",
       "<tr>\n",
       "         <td></td>            <th>coef</th>     <th>std err</th>      <th>t</th>      <th>P>|t|</th>  <th>[0.025</th>    <th>0.975]</th>  \n",
       "</tr>\n",
       "<tr>\n",
       "  <th>const</th>           <td> 2.579e+04</td> <td> 2273.053</td> <td>   11.347</td> <td> 0.000</td> <td> 2.11e+04</td> <td> 3.04e+04</td>\n",
       "</tr>\n",
       "<tr>\n",
       "  <th>YearsExperience</th> <td> 9449.9623</td> <td>  378.755</td> <td>   24.950</td> <td> 0.000</td> <td> 8674.119</td> <td> 1.02e+04</td>\n",
       "</tr>\n",
       "</table>\n",
       "<table class=\"simpletable\">\n",
       "<tr>\n",
       "  <th>Omnibus:</th>       <td> 2.140</td> <th>  Durbin-Watson:     </th> <td>   1.648</td>\n",
       "</tr>\n",
       "<tr>\n",
       "  <th>Prob(Omnibus):</th> <td> 0.343</td> <th>  Jarque-Bera (JB):  </th> <td>   1.569</td>\n",
       "</tr>\n",
       "<tr>\n",
       "  <th>Skew:</th>          <td> 0.363</td> <th>  Prob(JB):          </th> <td>   0.456</td>\n",
       "</tr>\n",
       "<tr>\n",
       "  <th>Kurtosis:</th>      <td> 2.147</td> <th>  Cond. No.          </th> <td>    13.2</td>\n",
       "</tr>\n",
       "</table><br/><br/>Warnings:<br/>[1] Standard Errors assume that the covariance matrix of the errors is correctly specified."
      ],
      "text/plain": [
       "<class 'statsmodels.iolib.summary.Summary'>\n",
       "\"\"\"\n",
       "                            OLS Regression Results                            \n",
       "==============================================================================\n",
       "Dep. Variable:                 Salary   R-squared:                       0.957\n",
       "Model:                            OLS   Adj. R-squared:                  0.955\n",
       "Method:                 Least Squares   F-statistic:                     622.5\n",
       "Date:                Fri, 16 Oct 2020   Prob (F-statistic):           1.14e-20\n",
       "Time:                        20:47:23   Log-Likelihood:                -301.44\n",
       "No. Observations:                  30   AIC:                             606.9\n",
       "Df Residuals:                      28   BIC:                             609.7\n",
       "Df Model:                           1                                         \n",
       "Covariance Type:            nonrobust                                         \n",
       "===================================================================================\n",
       "                      coef    std err          t      P>|t|      [0.025      0.975]\n",
       "-----------------------------------------------------------------------------------\n",
       "const            2.579e+04   2273.053     11.347      0.000    2.11e+04    3.04e+04\n",
       "YearsExperience  9449.9623    378.755     24.950      0.000    8674.119    1.02e+04\n",
       "==============================================================================\n",
       "Omnibus:                        2.140   Durbin-Watson:                   1.648\n",
       "Prob(Omnibus):                  0.343   Jarque-Bera (JB):                1.569\n",
       "Skew:                           0.363   Prob(JB):                        0.456\n",
       "Kurtosis:                       2.147   Cond. No.                         13.2\n",
       "==============================================================================\n",
       "\n",
       "Warnings:\n",
       "[1] Standard Errors assume that the covariance matrix of the errors is correctly specified.\n",
       "\"\"\""
      ]
     },
     "execution_count": 11,
     "metadata": {},
     "output_type": "execute_result"
    }
   ],
   "source": [
    "import statsmodels.api as sm\n",
    "X = sm.add_constant(X)\n",
    "lm = sm.OLS(y, X)\n",
    "model = lm.fit()\n",
    "model.summary()\n",
    "\n",
    "#You can use stats model to learn statistical details (such as p_value, model parameters ..)\n",
    "#You can create a model with using stats model in order to predict values. \n",
    "#the stats model is mostly used to look at statistical details, to understand the data and model."
   ]
  },
  {
   "cell_type": "code",
   "execution_count": 12,
   "metadata": {
    "execution": {
     "iopub.execute_input": "2020-10-16T20:47:23.094759Z",
     "iopub.status.busy": "2020-10-16T20:47:23.093884Z",
     "iopub.status.idle": "2020-10-16T20:47:23.098539Z",
     "shell.execute_reply": "2020-10-16T20:47:23.097878Z"
    },
    "papermill": {
     "duration": 0.043797,
     "end_time": "2020-10-16T20:47:23.098659",
     "exception": false,
     "start_time": "2020-10-16T20:47:23.054862",
     "status": "completed"
    },
    "tags": []
   },
   "outputs": [
    {
     "name": "stdout",
     "output_type": "stream",
     "text": [
      "f_pvalue:  0.0000\n"
     ]
    }
   ],
   "source": [
    "print(\"f_pvalue: \", \"%.4f\" % model.f_pvalue)"
   ]
  },
  {
   "cell_type": "code",
   "execution_count": 13,
   "metadata": {
    "execution": {
     "iopub.execute_input": "2020-10-16T20:47:23.176061Z",
     "iopub.status.busy": "2020-10-16T20:47:23.175098Z",
     "iopub.status.idle": "2020-10-16T20:47:23.179960Z",
     "shell.execute_reply": "2020-10-16T20:47:23.179314Z"
    },
    "papermill": {
     "duration": 0.046713,
     "end_time": "2020-10-16T20:47:23.180089",
     "exception": false,
     "start_time": "2020-10-16T20:47:23.133376",
     "status": "completed"
    },
    "tags": []
   },
   "outputs": [
    {
     "data": {
      "text/plain": [
       "const              25792.200199\n",
       "YearsExperience     9449.962321\n",
       "dtype: float64"
      ]
     },
     "execution_count": 13,
     "metadata": {},
     "output_type": "execute_result"
    }
   ],
   "source": [
    "model.params"
   ]
  },
  {
   "cell_type": "code",
   "execution_count": 14,
   "metadata": {
    "execution": {
     "iopub.execute_input": "2020-10-16T20:47:23.258728Z",
     "iopub.status.busy": "2020-10-16T20:47:23.257717Z",
     "iopub.status.idle": "2020-10-16T20:47:23.261283Z",
     "shell.execute_reply": "2020-10-16T20:47:23.261897Z"
    },
    "papermill": {
     "duration": 0.046263,
     "end_time": "2020-10-16T20:47:23.262061",
     "exception": false,
     "start_time": "2020-10-16T20:47:23.215798",
     "status": "completed"
    },
    "tags": []
   },
   "outputs": [
    {
     "name": "stdout",
     "output_type": "stream",
     "text": [
      "Salary = 25792.2002 + YearsExperience*9449.9623\n"
     ]
    }
   ],
   "source": [
    "STM = \"Salary = \" +  str(\"%.4f\" % model.params[0]) + \" + \" + \"YearsExperience*\" + str(\"%.4f\" % model.params[1])\n",
    "print(STM)"
   ]
  },
  {
   "cell_type": "code",
   "execution_count": 15,
   "metadata": {
    "execution": {
     "iopub.execute_input": "2020-10-16T20:47:23.347968Z",
     "iopub.status.busy": "2020-10-16T20:47:23.347121Z",
     "iopub.status.idle": "2020-10-16T20:47:23.633100Z",
     "shell.execute_reply": "2020-10-16T20:47:23.632336Z"
    },
    "papermill": {
     "duration": 0.335039,
     "end_time": "2020-10-16T20:47:23.633228",
     "exception": false,
     "start_time": "2020-10-16T20:47:23.298189",
     "status": "completed"
    },
    "tags": []
   },
   "outputs": [
    {
     "data": {
      "image/png": "[encoded data removed]",
      "text/plain": [
       "<Figure size 432x288 with 1 Axes>"
      ]
     },
     "metadata": {
      "needs_background": "light"
     },
     "output_type": "display_data"
    }
   ],
   "source": [
    "g = sns.regplot(df[\"YearsExperience\"], df[\"Salary\"], ci=None, scatter_kws={'color':'r', 's':9});\n",
    "g.set_title(\" Salary = 25321.58 + YearsExperience*9423.82\");\n",
    "g.set_ylabel(\"Salary\");\n",
    "g.set_xlabel(\"YearsExperience\");\n",
    "#plt.xlim(-10,310)\n",
    "#plt.ylim(bottom=0)"
   ]
  },
  {
   "cell_type": "markdown",
   "metadata": {
    "papermill": {
     "duration": 0.036749,
     "end_time": "2020-10-16T20:47:23.707552",
     "exception": false,
     "start_time": "2020-10-16T20:47:23.670803",
     "status": "completed"
    },
    "tags": []
   },
   "source": [
    "## 3.2. LinearRegression"
   ]
  },
  {
   "cell_type": "code",
   "execution_count": 16,
   "metadata": {
    "execution": {
     "iopub.execute_input": "2020-10-16T20:47:23.789000Z",
     "iopub.status.busy": "2020-10-16T20:47:23.788001Z",
     "iopub.status.idle": "2020-10-16T20:47:23.791042Z",
     "shell.execute_reply": "2020-10-16T20:47:23.790300Z"
    },
    "papermill": {
     "duration": 0.04628,
     "end_time": "2020-10-16T20:47:23.791166",
     "exception": false,
     "start_time": "2020-10-16T20:47:23.744886",
     "status": "completed"
    },
    "tags": []
   },
   "outputs": [],
   "source": [
    "X = df['YearsExperience']\n",
    "y = df['Salary']"
   ]
  },
  {
   "cell_type": "code",
   "execution_count": 17,
   "metadata": {
    "execution": {
     "iopub.execute_input": "2020-10-16T20:47:23.872551Z",
     "iopub.status.busy": "2020-10-16T20:47:23.871824Z",
     "iopub.status.idle": "2020-10-16T20:47:23.997257Z",
     "shell.execute_reply": "2020-10-16T20:47:23.996504Z"
    },
    "papermill": {
     "duration": 0.168721,
     "end_time": "2020-10-16T20:47:23.997395",
     "exception": false,
     "start_time": "2020-10-16T20:47:23.828674",
     "status": "completed"
    },
    "tags": []
   },
   "outputs": [],
   "source": [
    "\n",
    "from sklearn.model_selection import train_test_split,cross_val_score\n",
    "X_train, X_test, y_train, y_test = train_test_split(X, y, test_size = 0.20, random_state= 42)"
   ]
  },
  {
   "cell_type": "code",
   "execution_count": 18,
   "metadata": {
    "execution": {
     "iopub.execute_input": "2020-10-16T20:47:24.084771Z",
     "iopub.status.busy": "2020-10-16T20:47:24.083746Z",
     "iopub.status.idle": "2020-10-16T20:47:24.088631Z",
     "shell.execute_reply": "2020-10-16T20:47:24.087926Z"
    },
    "papermill": {
     "duration": 0.050033,
     "end_time": "2020-10-16T20:47:24.088781",
     "exception": false,
     "start_time": "2020-10-16T20:47:24.038748",
     "status": "completed"
    },
    "tags": []
   },
   "outputs": [
    {
     "data": {
      "text/plain": [
       "(24,)"
      ]
     },
     "execution_count": 18,
     "metadata": {},
     "output_type": "execute_result"
    }
   ],
   "source": [
    "X_train.shape"
   ]
  },
  {
   "cell_type": "code",
   "execution_count": 19,
   "metadata": {
    "execution": {
     "iopub.execute_input": "2020-10-16T20:47:24.172794Z",
     "iopub.status.busy": "2020-10-16T20:47:24.171959Z",
     "iopub.status.idle": "2020-10-16T20:47:24.175593Z",
     "shell.execute_reply": "2020-10-16T20:47:24.174880Z"
    },
    "papermill": {
     "duration": 0.047388,
     "end_time": "2020-10-16T20:47:24.175742",
     "exception": false,
     "start_time": "2020-10-16T20:47:24.128354",
     "status": "completed"
    },
    "tags": []
   },
   "outputs": [],
   "source": [
    "X_train = X_train[:,np.newaxis]\n",
    "X_test = X_test[:,np.newaxis]\n",
    "\n",
    "#numpy.newaxis is used to increase the dimension of the existing array by one more dimension, when used once."
   ]
  },
  {
   "cell_type": "code",
   "execution_count": 20,
   "metadata": {
    "execution": {
     "iopub.execute_input": "2020-10-16T20:47:24.258783Z",
     "iopub.status.busy": "2020-10-16T20:47:24.257893Z",
     "iopub.status.idle": "2020-10-16T20:47:24.262450Z",
     "shell.execute_reply": "2020-10-16T20:47:24.261701Z"
    },
    "papermill": {
     "duration": 0.048225,
     "end_time": "2020-10-16T20:47:24.262578",
     "exception": false,
     "start_time": "2020-10-16T20:47:24.214353",
     "status": "completed"
    },
    "tags": []
   },
   "outputs": [
    {
     "data": {
      "text/plain": [
       "(24, 1)"
      ]
     },
     "execution_count": 20,
     "metadata": {},
     "output_type": "execute_result"
    }
   ],
   "source": [
    "X_train.shape\n",
    "\n",
    "#After used numpy.newaxis, shape of X_train was change. In order to use fit(), your feature shape must be column vector."
   ]
  },
  {
   "cell_type": "code",
   "execution_count": 21,
   "metadata": {
    "execution": {
     "iopub.execute_input": "2020-10-16T20:47:24.347440Z",
     "iopub.status.busy": "2020-10-16T20:47:24.346340Z",
     "iopub.status.idle": "2020-10-16T20:47:24.351358Z",
     "shell.execute_reply": "2020-10-16T20:47:24.350675Z"
    },
    "papermill": {
     "duration": 0.049148,
     "end_time": "2020-10-16T20:47:24.351489",
     "exception": false,
     "start_time": "2020-10-16T20:47:24.302341",
     "status": "completed"
    },
    "tags": []
   },
   "outputs": [
    {
     "data": {
      "text/plain": [
       "(6, 1)"
      ]
     },
     "execution_count": 21,
     "metadata": {},
     "output_type": "execute_result"
    }
   ],
   "source": [
    "X_test.shape"
   ]
  },
  {
   "cell_type": "code",
   "execution_count": 22,
   "metadata": {
    "execution": {
     "iopub.execute_input": "2020-10-16T20:47:24.435794Z",
     "iopub.status.busy": "2020-10-16T20:47:24.435028Z",
     "iopub.status.idle": "2020-10-16T20:47:24.531575Z",
     "shell.execute_reply": "2020-10-16T20:47:24.530967Z"
    },
    "papermill": {
     "duration": 0.140825,
     "end_time": "2020-10-16T20:47:24.531734",
     "exception": false,
     "start_time": "2020-10-16T20:47:24.390909",
     "status": "completed"
    },
    "tags": []
   },
   "outputs": [],
   "source": [
    "from sklearn.linear_model import LinearRegression\n",
    "model = LinearRegression().fit(X_train,y_train)"
   ]
  },
  {
   "cell_type": "code",
   "execution_count": 23,
   "metadata": {
    "execution": {
     "iopub.execute_input": "2020-10-16T20:47:24.618612Z",
     "iopub.status.busy": "2020-10-16T20:47:24.617463Z",
     "iopub.status.idle": "2020-10-16T20:47:24.622136Z",
     "shell.execute_reply": "2020-10-16T20:47:24.621495Z"
    },
    "papermill": {
     "duration": 0.051019,
     "end_time": "2020-10-16T20:47:24.622271",
     "exception": false,
     "start_time": "2020-10-16T20:47:24.571252",
     "status": "completed"
    },
    "tags": []
   },
   "outputs": [
    {
     "data": {
      "text/plain": [
       "25321.583011776813"
      ]
     },
     "execution_count": 23,
     "metadata": {},
     "output_type": "execute_result"
    }
   ],
   "source": [
    "model.intercept_"
   ]
  },
  {
   "cell_type": "code",
   "execution_count": 24,
   "metadata": {
    "execution": {
     "iopub.execute_input": "2020-10-16T20:47:24.710457Z",
     "iopub.status.busy": "2020-10-16T20:47:24.709600Z",
     "iopub.status.idle": "2020-10-16T20:47:24.714008Z",
     "shell.execute_reply": "2020-10-16T20:47:24.713328Z"
    },
    "papermill": {
     "duration": 0.050189,
     "end_time": "2020-10-16T20:47:24.714130",
     "exception": false,
     "start_time": "2020-10-16T20:47:24.663941",
     "status": "completed"
    },
    "tags": []
   },
   "outputs": [
    {
     "data": {
      "text/plain": [
       "array([9423.81532303])"
      ]
     },
     "execution_count": 24,
     "metadata": {},
     "output_type": "execute_result"
    }
   ],
   "source": [
    "model.coef_ "
   ]
  },
  {
   "cell_type": "code",
   "execution_count": 25,
   "metadata": {
    "execution": {
     "iopub.execute_input": "2020-10-16T20:47:24.802794Z",
     "iopub.status.busy": "2020-10-16T20:47:24.801661Z",
     "iopub.status.idle": "2020-10-16T20:47:24.805532Z",
     "shell.execute_reply": "2020-10-16T20:47:24.806369Z"
    },
    "papermill": {
     "duration": 0.051717,
     "end_time": "2020-10-16T20:47:24.806580",
     "exception": false,
     "start_time": "2020-10-16T20:47:24.754863",
     "status": "completed"
    },
    "tags": []
   },
   "outputs": [
    {
     "name": "stdout",
     "output_type": "stream",
     "text": [
      "Salary = 25321.58 + YearsExperience*9423.82\n"
     ]
    }
   ],
   "source": [
    "LR = \"Salary = \" +  str(\"%.2f\" % model.intercept_ ) + \" + YearsExperience\" + \"*\" + str(\"%.2f\" % model.coef_)\n",
    "print(LR)"
   ]
  },
  {
   "cell_type": "code",
   "execution_count": 26,
   "metadata": {
    "execution": {
     "iopub.execute_input": "2020-10-16T20:47:24.897569Z",
     "iopub.status.busy": "2020-10-16T20:47:24.896497Z",
     "iopub.status.idle": "2020-10-16T20:47:24.900036Z",
     "shell.execute_reply": "2020-10-16T20:47:24.899375Z"
    },
    "papermill": {
     "duration": 0.050706,
     "end_time": "2020-10-16T20:47:24.900167",
     "exception": false,
     "start_time": "2020-10-16T20:47:24.849461",
     "status": "completed"
    },
    "tags": []
   },
   "outputs": [],
   "source": [
    "y_pred_train = model.predict(X_train)\n",
    "y_pred_test = model.predict(X_test)"
   ]
  },
  {
   "cell_type": "code",
   "execution_count": 27,
   "metadata": {
    "execution": {
     "iopub.execute_input": "2020-10-16T20:47:24.996217Z",
     "iopub.status.busy": "2020-10-16T20:47:24.990995Z",
     "iopub.status.idle": "2020-10-16T20:47:25.328455Z",
     "shell.execute_reply": "2020-10-16T20:47:25.327733Z"
    },
    "papermill": {
     "duration": 0.386966,
     "end_time": "2020-10-16T20:47:25.328578",
     "exception": false,
     "start_time": "2020-10-16T20:47:24.941612",
     "status": "completed"
    },
    "tags": []
   },
   "outputs": [
    {
     "data": {
      "image/png": "[encoded data removed]",
      "text/plain": [
       "<Figure size 432x288 with 1 Axes>"
      ]
     },
     "metadata": {
      "needs_background": "light"
     },
     "output_type": "display_data"
    }
   ],
   "source": [
    "ax1 = sns.distplot(model.predict(X_train), hist=False, color=\"r\", label=\"Actual Train Value\")\n",
    "sns.distplot(y_train, hist=False, color=\"b\", label=\"Fitted Train Values\" , ax=ax1);"
   ]
  },
  {
   "cell_type": "code",
   "execution_count": 28,
   "metadata": {
    "execution": {
     "iopub.execute_input": "2020-10-16T20:47:25.424658Z",
     "iopub.status.busy": "2020-10-16T20:47:25.423914Z",
     "iopub.status.idle": "2020-10-16T20:47:25.770289Z",
     "shell.execute_reply": "2020-10-16T20:47:25.769573Z"
    },
    "papermill": {
     "duration": 0.397402,
     "end_time": "2020-10-16T20:47:25.770420",
     "exception": false,
     "start_time": "2020-10-16T20:47:25.373018",
     "status": "completed"
    },
    "tags": []
   },
   "outputs": [
    {
     "data": {
      "image/png": "[encoded data removed]",
      "text/plain": [
       "<Figure size 432x288 with 1 Axes>"
      ]
     },
     "metadata": {
      "needs_background": "light"
     },
     "output_type": "display_data"
    }
   ],
   "source": [
    "ax1 = sns.distplot(model.predict(X_test), hist=False, color=\"r\", label=\"Actual Test Value\")\n",
    "sns.distplot(y_test, hist=False, color=\"b\", label=\"Fitted Test Values\" , ax=ax1);"
   ]
  },
  {
   "cell_type": "code",
   "execution_count": 29,
   "metadata": {
    "execution": {
     "iopub.execute_input": "2020-10-16T20:47:25.868394Z",
     "iopub.status.busy": "2020-10-16T20:47:25.867456Z",
     "iopub.status.idle": "2020-10-16T20:47:25.872345Z",
     "shell.execute_reply": "2020-10-16T20:47:25.871748Z"
    },
    "papermill": {
     "duration": 0.05742,
     "end_time": "2020-10-16T20:47:25.872479",
     "exception": false,
     "start_time": "2020-10-16T20:47:25.815059",
     "status": "completed"
    },
    "tags": []
   },
   "outputs": [
    {
     "name": "stdout",
     "output_type": "stream",
     "text": [
      "train score:0.9645401573418146\n",
      "test score:0.9024461774180497\n"
     ]
    }
   ],
   "source": [
    "trainscr = model.score(X_train, y_train)\n",
    "testscr = model.score(X_test, y_test)\n",
    "\n",
    "print(\"train score:{}\\ntest score:{}\".format(trainscr,testscr))"
   ]
  },
  {
   "cell_type": "code",
   "execution_count": 30,
   "metadata": {
    "execution": {
     "iopub.execute_input": "2020-10-16T20:47:25.985729Z",
     "iopub.status.busy": "2020-10-16T20:47:25.984492Z",
     "iopub.status.idle": "2020-10-16T20:47:25.988476Z",
     "shell.execute_reply": "2020-10-16T20:47:25.989341Z"
    },
    "papermill": {
     "duration": 0.072215,
     "end_time": "2020-10-16T20:47:25.989553",
     "exception": false,
     "start_time": "2020-10-16T20:47:25.917338",
     "status": "completed"
    },
    "tags": []
   },
   "outputs": [
    {
     "name": "stdout",
     "output_type": "stream",
     "text": [
      "train rmse:5205.982110155719\n",
      "test rmse:7059.04362190151\n"
     ]
    }
   ],
   "source": [
    "from sklearn.metrics import mean_squared_error, r2_score\n",
    "\n",
    "rmse = np.sqrt(mean_squared_error(y_train, model.predict(X_train)))\n",
    "\n",
    "\n",
    "rmse1 = np.sqrt(mean_squared_error(y_test, model.predict(X_test)))\n",
    "\n",
    "\n",
    "print(\"train rmse:{}\\ntest rmse:{}\".format(rmse,rmse1))"
   ]
  },
  {
   "cell_type": "code",
   "execution_count": 31,
   "metadata": {
    "execution": {
     "iopub.execute_input": "2020-10-16T20:47:26.107862Z",
     "iopub.status.busy": "2020-10-16T20:47:26.106890Z",
     "iopub.status.idle": "2020-10-16T20:47:26.110651Z",
     "shell.execute_reply": "2020-10-16T20:47:26.111481Z"
    },
    "papermill": {
     "duration": 0.065864,
     "end_time": "2020-10-16T20:47:26.111639",
     "exception": false,
     "start_time": "2020-10-16T20:47:26.045775",
     "status": "completed"
    },
    "tags": []
   },
   "outputs": [
    {
     "name": "stdout",
     "output_type": "stream",
     "text": [
      "Salary = 25792.2002 + YearsExperience*9449.9623\n",
      "Salary = 25321.58 + YearsExperience*9423.82\n"
     ]
    }
   ],
   "source": [
    "print(STM)\n",
    "print(LR)"
   ]
  }
 ],
 "metadata": {
  "kernelspec": {
   "display_name": "Python 3",
   "language": "python",
   "name": "python3"
  },
  "language_info": {
   "codemirror_mode": {
    "name": "ipython",
    "version": 3
   },
   "file_extension": ".py",
   "mimetype": "text/x-python",
   "name": "python",
   "nbconvert_exporter": "python",
   "pygments_lexer": "ipython3",
   "version": "3.7.6"
  },
  "papermill": {
   "duration": 15.599995,
   "end_time": "2020-10-16T20:47:26.270739",
   "environment_variables": {},
   "exception": null,
   "input_path": "__notebook__.ipynb",
   "output_path": "__notebook__.ipynb",
   "parameters": {},
   "start_time": "2020-10-16T20:47:10.670744",
   "version": "2.1.0"
  }
 },
 "nbformat": 4,
 "nbformat_minor": 4
}
